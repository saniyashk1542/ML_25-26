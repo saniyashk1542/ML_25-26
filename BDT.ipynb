{
  "nbformat": 4,
  "nbformat_minor": 0,
  "metadata": {
    "colab": {
      "provenance": [],
      "authorship_tag": "ABX9TyPgVAGcoosrmnZNt2x+A9l8",
      "include_colab_link": true
    },
    "kernelspec": {
      "name": "python3",
      "display_name": "Python 3"
    },
    "language_info": {
      "name": "python"
    }
  },
  "cells": [
    {
      "cell_type": "markdown",
      "metadata": {
        "id": "view-in-github",
        "colab_type": "text"
      },
      "source": [
        "<a href=\"https://colab.research.google.com/github/saniyashk1542/ML_25-26/blob/main/BDT.ipynb\" target=\"_parent\"><img src=\"https://colab.research.google.com/assets/colab-badge.svg\" alt=\"Open In Colab\"/></a>"
      ]
    },
    {
      "cell_type": "code",
      "execution_count": 1,
      "metadata": {
        "colab": {
          "base_uri": "https://localhost:8080/"
        },
        "id": "iIAg3pNJRWrj",
        "outputId": "3c6bec83-6b27-4d98-8ccf-6aac1690acfa"
      },
      "outputs": [
        {
          "output_type": "stream",
          "name": "stdout",
          "text": [
            "P(fever|Cold) = 0.67\n",
            "P(fever|Covid) = 0.67\n"
          ]
        }
      ],
      "source": [
        "import pandas as pd\n",
        "\n",
        "# Example dataset\n",
        "data = pd.DataFrame({\n",
        "    'Disease': ['Cold', 'Cold', 'Cold', 'Covid', 'Covid', 'Covid'],\n",
        "    'Fever':   ['Yes', 'No', 'Yes', 'Yes', 'Yes', 'No']\n",
        "})\n",
        "\n",
        "# Compute P(fever|Cold)\n",
        "cold = data[data['Disease'] == 'Cold']\n",
        "P_fever_given_cold = (cold['Fever'] == 'Yes').mean()\n",
        "\n",
        "# Compute P(fever|Covid)\n",
        "covid = data[data['Disease'] == 'Covid']\n",
        "P_fever_given_covid = (covid['Fever'] == 'Yes').mean()\n",
        "\n",
        "print(\"P(fever|Cold) =\", round(P_fever_given_cold, 2))\n",
        "print(\"P(fever|Covid) =\", round(P_fever_given_covid, 2))\n"
      ]
    },
    {
      "cell_type": "code",
      "source": [
        "# Priors (before seeing fever)\n",
        "P_cold = 0.7\n",
        "P_covid = 0.3\n",
        "\n",
        "# Likelihoods (chance of fever given disease)\n",
        "P_fever_given_cold = 0.5\n",
        "P_fever_given_covid = 0.9\n",
        "\n",
        "# Numerators of Bayes' rule\n",
        "cold_score = P_fever_given_cold * P_cold\n",
        "covid_score = P_fever_given_covid * P_covid\n",
        "\n",
        "# Normalize to get posterior probabilities\n",
        "total = cold_score + covid_score\n",
        "P_cold_given_fever = cold_score / total\n",
        "P_covid_given_fever = covid_score / total\n",
        "\n",
        "print(\"P(Cold | Fever) =\", round(P_cold_given_fever, 2))\n",
        "print(\"P(Covid | Fever) =\", round(P_covid_given_fever, 2))\n",
        "\n",
        "# Decision (pick higher probability)\n",
        "if P_cold_given_fever > P_covid_given_fever:\n",
        "    print(\"👉 Decision: Patient most likely has a Cold\")\n",
        "else:\n",
        "    print(\"👉 Decision: Patient most likely has Covid\")\n"
      ],
      "metadata": {
        "colab": {
          "base_uri": "https://localhost:8080/"
        },
        "id": "dv1VjO6Cfuhr",
        "outputId": "6dfe4c2a-0451-4553-815f-1d1907b4645f"
      },
      "execution_count": 2,
      "outputs": [
        {
          "output_type": "stream",
          "name": "stdout",
          "text": [
            "P(Cold | Fever) = 0.56\n",
            "P(Covid | Fever) = 0.44\n",
            "👉 Decision: Patient most likely has a Cold\n"
          ]
        }
      ]
    },
    {
      "cell_type": "code",
      "source": [
        "import pandas as pd\n",
        "\n",
        "# -----------------------------\n",
        "# 1. Example dataset\n",
        "# -----------------------------\n",
        "data = pd.DataFrame({\n",
        "    'Disease': ['Cold', 'Cold', 'Cold', 'Covid', 'Covid', 'Covid',\n",
        "                'Cold', 'Covid', 'Cold', 'Covid', 'Cold', 'Cold',\n",
        "                'Covid', 'Covid', 'Cold', 'Cold', 'Covid', 'Cold'],\n",
        "    'Fever':   ['Yes', 'No', 'Yes', 'Yes', 'Yes', 'No',\n",
        "                'Yes', 'Yes', 'No', 'Yes', 'Yes', 'No',\n",
        "                'Yes', 'No', 'Yes', 'Yes', 'Yes', 'No']\n",
        "})\n",
        "\n",
        "# -----------------------------\n",
        "# 2. Compute Priors\n",
        "# -----------------------------\n",
        "priors = data['Disease'].value_counts(normalize=True)\n",
        "print(\"🔹 Priors (P(Disease)):\\n\", priors, \"\\n\")\n",
        "\n",
        "# -----------------------------\n",
        "# 3. Compute Likelihoods (P(Fever | Disease))\n",
        "# -----------------------------\n",
        "likelihoods = data.groupby('Disease')['Fever'].value_counts(normalize=True).unstack().fillna(0)\n",
        "print(\"🔹 Likelihoods (P(Fever | Disease)):\\n\", likelihoods, \"\\n\")\n",
        "\n",
        "# -----------------------------\n",
        "# 4. Compute Posteriors for Fever = 'Yes' using Bayes Rule\n",
        "# -----------------------------\n",
        "# Numerator for each class = P(Fever|Disease) * P(Disease)\n",
        "numerators = {}\n",
        "for disease in priors.index:\n",
        "    numerators[disease] = likelihoods.loc[disease, 'Yes'] * priors[disease]\n",
        "\n",
        "# Denominator = total of numerators (to normalize)\n",
        "denominator = sum(numerators.values())\n",
        "\n",
        "# Compute normalized posterior probabilities\n",
        "posteriors = {disease: value / denominator for disease, value in numerators.items()}\n",
        "\n",
        "# -----------------------------\n",
        "# 5. Display Results\n",
        "# -----------------------------\n",
        "print(\"🔹 Posterior Probabilities given Fever = Yes:\")\n",
        "for disease, prob in posteriors.items():\n",
        "    print(f\"P({disease} | Fever=Yes) = {round(prob, 3)}\")\n",
        "\n",
        "# -----------------------------\n",
        "# 6. Decision: choose most likely disease\n",
        "# -----------------------------\n",
        "best_disease = max(posteriors, key=posteriors.get)\n",
        "print(f\"\\n👉 Decision: Patient most likely has **{best_disease}**\")\n"
      ],
      "metadata": {
        "colab": {
          "base_uri": "https://localhost:8080/"
        },
        "id": "CvWEm7SSfva_",
        "outputId": "ef2fa921-ecba-4866-b0bc-fd05a063d7af"
      },
      "execution_count": 3,
      "outputs": [
        {
          "output_type": "stream",
          "name": "stdout",
          "text": [
            "🔹 Priors (P(Disease)):\n",
            " Disease\n",
            "Cold     0.555556\n",
            "Covid    0.444444\n",
            "Name: proportion, dtype: float64 \n",
            "\n",
            "🔹 Likelihoods (P(Fever | Disease)):\n",
            " Fever      No   Yes\n",
            "Disease            \n",
            "Cold     0.40  0.60\n",
            "Covid    0.25  0.75 \n",
            "\n",
            "🔹 Posterior Probabilities given Fever = Yes:\n",
            "P(Cold | Fever=Yes) = 0.5\n",
            "P(Covid | Fever=Yes) = 0.5\n",
            "\n",
            "👉 Decision: Patient most likely has **Cold**\n"
          ]
        }
      ]
    },
    {
      "cell_type": "code",
      "source": [
        "import pandas as pd\n",
        "\n",
        "# -----------------------------\n",
        "# 1. Example dataset\n",
        "# -----------------------------\n",
        "data = pd.DataFrame({\n",
        "    'Email_Type': ['Spam', 'Spam', 'Not_Spam', 'Spam', 'Not_Spam', 'Spam',\n",
        "                   'Not_Spam', 'Spam', 'Not_Spam', 'Not_Spam', 'Spam', 'Not_Spam',\n",
        "                   'Spam', 'Spam', 'Not_Spam', 'Not_Spam', 'Spam', 'Not_Spam'],\n",
        "    'Contains_Links': ['Yes', 'Yes', 'No', 'Yes', 'No', 'No',\n",
        "                       'Yes', 'Yes', 'No', 'Yes', 'Yes', 'No',\n",
        "                       'Yes', 'No', 'No', 'Yes', 'Yes', 'No']\n",
        "})\n",
        "\n",
        "# -----------------------------\n",
        "# 2. Compute Priors\n",
        "# -----------------------------\n",
        "priors = data['Email_Type'].value_counts(normalize=True)\n",
        "print(\"🔹 Priors (P(Email_Type)):\\n\", priors, \"\\n\")\n",
        "\n",
        "# -----------------------------\n",
        "# 3. Compute Likelihoods (P(Contains_Links | Email_Type))\n",
        "# -----------------------------\n",
        "likelihoods = data.groupby('Email_Type')['Contains_Links'].value_counts(normalize=True).unstack().fillna(0)\n",
        "print(\"🔹 Likelihoods (P(Contains_Links | Email_Type)):\\n\", likelihoods, \"\\n\")\n",
        "\n",
        "# -----------------------------\n",
        "# 4. Compute Posterior for Contains_Links = 'Yes' using Bayes' Rule\n",
        "# -----------------------------\n",
        "numerators = {}\n",
        "for etype in priors.index:\n",
        "    numerators[etype] = likelihoods.loc[etype, 'Yes'] * priors[etype]\n",
        "\n",
        "denominator = sum(numerators.values())\n",
        "posteriors = {etype: value / denominator for etype, value in numerators.items()}\n",
        "\n",
        "# -----------------------------\n",
        "# 5. Display Results\n",
        "# -----------------------------\n",
        "print(\"🔹 Posterior Probabilities given Contains_Links = Yes:\")\n",
        "for etype, prob in posteriors.items():\n",
        "    print(f\"P({etype} | Contains_Links=Yes) = {round(prob, 3)}\")\n",
        "\n",
        "# -----------------------------\n",
        "# 6. Decision: choose most likely class\n",
        "# -----------------------------\n",
        "best_type = max(posteriors, key=posteriors.get)\n",
        "print(f\"\\n👉 Decision: Email with a link is most likely **{best_type}**\")\n"
      ],
      "metadata": {
        "colab": {
          "base_uri": "https://localhost:8080/"
        },
        "id": "P3S7d8x2gc76",
        "outputId": "4f35ba0d-b3d4-4869-b2b9-a44eac45332e"
      },
      "execution_count": 4,
      "outputs": [
        {
          "output_type": "stream",
          "name": "stdout",
          "text": [
            "🔹 Priors (P(Email_Type)):\n",
            " Email_Type\n",
            "Spam        0.5\n",
            "Not_Spam    0.5\n",
            "Name: proportion, dtype: float64 \n",
            "\n",
            "🔹 Likelihoods (P(Contains_Links | Email_Type)):\n",
            " Contains_Links        No       Yes\n",
            "Email_Type                        \n",
            "Not_Spam        0.666667  0.333333\n",
            "Spam            0.222222  0.777778 \n",
            "\n",
            "🔹 Posterior Probabilities given Contains_Links = Yes:\n",
            "P(Spam | Contains_Links=Yes) = 0.7\n",
            "P(Not_Spam | Contains_Links=Yes) = 0.3\n",
            "\n",
            "👉 Decision: Email with a link is most likely **Spam**\n"
          ]
        }
      ]
    },
    {
      "cell_type": "code",
      "source": [],
      "metadata": {
        "id": "DSOHVMqFguvZ"
      },
      "execution_count": 4,
      "outputs": []
    }
  ]
}