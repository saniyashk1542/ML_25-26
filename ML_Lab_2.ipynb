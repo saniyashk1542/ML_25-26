{
  "nbformat": 4,
  "nbformat_minor": 0,
  "metadata": {
    "colab": {
      "provenance": [],
      "authorship_tag": "ABX9TyMz/4AnGWjhnlfV836ziW3N",
      "include_colab_link": true
    },
    "kernelspec": {
      "name": "python3",
      "display_name": "Python 3"
    },
    "language_info": {
      "name": "python"
    }
  },
  "cells": [
    {
      "cell_type": "markdown",
      "metadata": {
        "id": "view-in-github",
        "colab_type": "text"
      },
      "source": [
        "<a href=\"https://colab.research.google.com/github/saniyashk1542/ML_25-26/blob/main/ML_Lab_2.ipynb\" target=\"_parent\"><img src=\"https://colab.research.google.com/assets/colab-badge.svg\" alt=\"Open In Colab\"/></a>"
      ]
    },
    {
      "cell_type": "code",
      "source": [
        "import numpy as np\n",
        "import pandas as pd\n",
        "\n",
        "# Set seed for reproducibility\n",
        "np.random.seed(42)\n",
        "\n",
        "# Number of records\n",
        "n_samples = 5000\n",
        "\n",
        "# Generate realistic features\n",
        "age = np.random.randint(18, 70, size=n_samples)  # Age between 18 and 70\n",
        "income = np.random.normal(loc=50000, scale=15000, size=n_samples).astype(int)  # Average income\n",
        "credit_score = np.random.normal(loc=650, scale=50, size=n_samples).astype(int)  # Average credit score\n",
        "\n",
        "# Generate binary label: Default (1 = likely to default, 0 = not likely)\n",
        "default = ((income < 40000) & (credit_score < 600)).astype(int)\n",
        "\n",
        "# Create DataFrame\n",
        "df = pd.DataFrame({\n",
        "    'Age': age,\n",
        "    'Income': income,\n",
        "    'CreditScore': credit_score,\n",
        "    'Default': default\n",
        "})\n",
        "\n",
        "# Display sample\n",
        "print(df.head())\n",
        "\n"
      ],
      "metadata": {
        "colab": {
          "base_uri": "https://localhost:8080/"
        },
        "id": "LXpN4P5xPn5z",
        "outputId": "05da6c09-4cf3-4fb5-d87e-f43f952130d6"
      },
      "execution_count": 1,
      "outputs": [
        {
          "output_type": "stream",
          "name": "stdout",
          "text": [
            "   Age  Income  CreditScore  Default\n",
            "0   56   48353          720        0\n",
            "1   69   57462          670        0\n",
            "2   46   44219          690        0\n",
            "3   32   56306          597        0\n",
            "4   60   37034          699        0\n"
          ]
        }
      ]
    },
    {
      "cell_type": "code",
      "source": [
        "from sklearn.model_selection import train_test_split\n",
        "\n",
        "# Features and label\n",
        "X = df[['Age', 'Income', 'CreditScore']]\n",
        "y = df['Default']\n",
        "\n",
        "# Split into train and test sets (80/20)\n",
        "X_train, X_test, y_train, y_test = train_test_split(X, y, test_size=0.2, stratify=y, random_state=42)\n",
        "\n",
        "print(\"Train size:\", X_train.shape[0])\n",
        "print(\"Test size:\", X_test.shape[0])"
      ],
      "metadata": {
        "colab": {
          "base_uri": "https://localhost:8080/"
        },
        "id": "Pda6de8IXqZT",
        "outputId": "76609acc-8c20-450f-9a29-fb9e74287cc8"
      },
      "execution_count": 2,
      "outputs": [
        {
          "output_type": "stream",
          "name": "stdout",
          "text": [
            "Train size: 4000\n",
            "Test size: 1000\n"
          ]
        }
      ]
    },
    {
      "cell_type": "code",
      "source": [
        "# First split: 80% temp, 20% test\n",
        "X_temp, X_test, y_temp, y_test = train_test_split(X, y, test_size=0.2, stratify=y, random_state=42)\n",
        "\n",
        "# Second split: 75% train, 25% validation from temp\n",
        "X_train, X_val, y_train, y_val = train_test_split(X_temp, y_temp, test_size=0.25, stratify=y_temp, random_state=42)\n",
        "\n",
        "print(\"Train size:\", X_train.shape[0])\n",
        "print(\"Validation size:\", X_val.shape[0])\n",
        "print(\"Test size:\", X_test.shape[0])"
      ],
      "metadata": {
        "colab": {
          "base_uri": "https://localhost:8080/"
        },
        "id": "h_sdGRZmYvIp",
        "outputId": "1db72762-b214-4e77-b992-6ed748e3267c"
      },
      "execution_count": 3,
      "outputs": [
        {
          "output_type": "stream",
          "name": "stdout",
          "text": [
            "Train size: 3000\n",
            "Validation size: 1000\n",
            "Test size: 1000\n"
          ]
        }
      ]
    },
    {
      "cell_type": "code",
      "source": [
        "from sklearn.model_selection import StratifiedKFold\n",
        "from sklearn.linear_model import LogisticRegression\n",
        "from sklearn.metrics import accuracy_score\n",
        "\n",
        "# Initialize K-Fold\n",
        "kf = StratifiedKFold(n_splits=5, shuffle=True, random_state=42)\n",
        "\n",
        "fold = 1\n",
        "for train_index, test_index in kf.split(X, y):\n",
        "    X_train_k, X_test_k = X.iloc[train_index], X.iloc[test_index]\n",
        "    y_train_k, y_test_k = y.iloc[train_index], y.iloc[test_index]\n",
        "\n",
        "    # Train logistic regression\n",
        "    model = LogisticRegression()\n",
        "    model.fit(X_train_k, y_train_k)\n",
        "    y_pred_k = model.predict(X_test_k)\n",
        "\n",
        "    print(f\"Fold {fold} Accuracy: {accuracy_score(y_test_k, y_pred_k):.4f}\")\n",
        "    fold += 1\n"
      ],
      "metadata": {
        "colab": {
          "base_uri": "https://localhost:8080/"
        },
        "id": "RwXPMzlxY1ox",
        "outputId": "18dc50f1-5b6f-43d3-bc5b-047354630e8b"
      },
      "execution_count": 4,
      "outputs": [
        {
          "output_type": "stream",
          "name": "stdout",
          "text": [
            "Fold 1 Accuracy: 0.9640\n",
            "Fold 2 Accuracy: 0.9800\n",
            "Fold 3 Accuracy: 0.9640\n",
            "Fold 4 Accuracy: 0.9640\n",
            "Fold 5 Accuracy: 0.9730\n"
          ]
        }
      ]
    },
    {
      "cell_type": "code",
      "source": [
        "from sklearn.metrics import classification_report\n",
        "from sklearn.metrics import confusion_matrix\n",
        "\n",
        "# Train model on full training set\n",
        "model = LogisticRegression()\n",
        "model.fit(X_train, y_train)\n",
        "\n",
        "# Predict on test set\n",
        "y_pred = model.predict(X_test)\n",
        "\n",
        "\n",
        "# Generate confusion matrix\n",
        "cm = confusion_matrix(y_test, y_pred)\n",
        "\n",
        "print(\"Confusion Matrix:\\n\", cm)\n",
        "\n",
        "# Evaluate\n",
        "print(\"Test Accuracy:\", accuracy_score(y_test, y_pred))\n",
        "\n"
      ],
      "metadata": {
        "colab": {
          "base_uri": "https://localhost:8080/"
        },
        "id": "tpenDHkKZQEf",
        "outputId": "a1e554e6-2193-4b4a-a190-b0094ca285c1"
      },
      "execution_count": 5,
      "outputs": [
        {
          "output_type": "stream",
          "name": "stdout",
          "text": [
            "Confusion Matrix:\n",
            " [[946   7]\n",
            " [ 21  26]]\n",
            "Test Accuracy: 0.972\n"
          ]
        }
      ]
    },
    {
      "cell_type": "code",
      "source": [
        "from sklearn.metrics import f1_score, recall_score, precision_score\n",
        "\n",
        "# Predict on test set\n",
        "y_pred = model.predict(X_test)\n",
        "\n",
        "# F1 Score\n",
        "f1 = f1_score(y_test, y_pred)\n",
        "\n",
        "# Recall\n",
        "recall = recall_score(y_test, y_pred)\n",
        "\n",
        "# Precision\n",
        "precision = precision_score(y_test, y_pred)\n",
        "\n",
        "# Display results\n",
        "print(f\"F1 Score: {f1:.2f}\")\n",
        "print(f\"Recall: {recall:.2f}\")\n",
        "print(f\"Precision: {precision:.2f}\")"
      ],
      "metadata": {
        "colab": {
          "base_uri": "https://localhost:8080/"
        },
        "id": "ha54ikh7ZUUV",
        "outputId": "82be8cf5-2fa9-49b6-c313-c442f8d51b03"
      },
      "execution_count": 6,
      "outputs": [
        {
          "output_type": "stream",
          "name": "stdout",
          "text": [
            "F1 Score: 0.65\n",
            "Recall: 0.55\n",
            "Precision: 0.79\n"
          ]
        }
      ]
    },
    {
      "cell_type": "code",
      "source": [],
      "metadata": {
        "id": "CtNMn7u6aNzp"
      },
      "execution_count": null,
      "outputs": []
    }
  ]
}