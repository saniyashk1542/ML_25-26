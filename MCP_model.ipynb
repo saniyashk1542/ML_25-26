{
  "nbformat": 4,
  "nbformat_minor": 0,
  "metadata": {
    "colab": {
      "provenance": [],
      "authorship_tag": "ABX9TyO+WlAByv3kjhNLGTuTno2c",
      "include_colab_link": true
    },
    "kernelspec": {
      "name": "python3",
      "display_name": "Python 3"
    },
    "language_info": {
      "name": "python"
    }
  },
  "cells": [
    {
      "cell_type": "markdown",
      "metadata": {
        "id": "view-in-github",
        "colab_type": "text"
      },
      "source": [
        "<a href=\"https://colab.research.google.com/github/saniyashk1542/ML_25-26/blob/main/MCP_model.ipynb\" target=\"_parent\"><img src=\"https://colab.research.google.com/assets/colab-badge.svg\" alt=\"Open In Colab\"/></a>"
      ]
    },
    {
      "cell_type": "code",
      "execution_count": 1,
      "metadata": {
        "colab": {
          "base_uri": "https://localhost:8080/"
        },
        "id": "T9R7ApdfTJ-E",
        "outputId": "ea03242e-589d-4a41-eb0f-45fa4fdc077d"
      },
      "outputs": [
        {
          "output_type": "stream",
          "name": "stdout",
          "text": [
            "Which gate do you want to implement?\n",
            "1. AND gate\n",
            "2. OR gate\n",
            "2\n",
            "Input 1 | Input 2 | Output (OR)\n",
            "   0    |    0    |   0\n",
            "   0    |    1    |   1\n",
            "   1    |    0    |   1\n",
            "   1    |    1    |   1\n"
          ]
        }
      ],
      "source": [
        "def MCP(inputs, weights, threshold):\n",
        "    weight_sum = sum(i * w for i, w in zip(inputs, weights))\n",
        "    if weight_sum >= threshold:\n",
        "        output = 1\n",
        "    else:\n",
        "        output = 0\n",
        "    return output\n",
        "\n",
        "inputs_d = [\n",
        "    [0, 0],\n",
        "    [0, 1],\n",
        "    [1, 0],\n",
        "    [1, 1]\n",
        "]\n",
        "\n",
        "weights = [1, 1]\n",
        "\n",
        "try:\n",
        "    choice = int(input(\"Which gate do you want to implement?\\n1. AND gate\\n2. OR gate\\n\"))\n",
        "except ValueError:\n",
        "    print(\"Please enter a valid integer (1 or 2).\")\n",
        "    exit()\n",
        "\n",
        "if choice == 1:\n",
        "    threshold = 2\n",
        "    print(\"Input 1 | Input 2 | Output (AND)\")\n",
        "    for inp in inputs_d:\n",
        "        output = MCP(inp, weights, threshold)\n",
        "        print(f\"   {inp[0]}    |    {inp[1]}    |   {output}\")\n",
        "elif choice == 2:\n",
        "    threshold = 1\n",
        "    print(\"Input 1 | Input 2 | Output (OR)\")\n",
        "    for inp in inputs_d:\n",
        "        output = MCP(inp, weights, threshold)\n",
        "        print(f\"   {inp[0]}    |    {inp[1]}    |   {output}\")\n",
        "else:\n",
        "    print(\"Invalid choice\")\n"
      ]
    },
    {
      "cell_type": "code",
      "source": [],
      "metadata": {
        "id": "r16Zp_wKTK2R"
      },
      "execution_count": null,
      "outputs": []
    }
  ]
}